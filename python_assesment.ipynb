{
 "cells": [
  {
   "cell_type": "markdown",
   "id": "6ad9be6f",
   "metadata": {},
   "source": [
    "Given a dataframe with numeric values, how do you get the row-wise and\n",
    "column-wise average values? For instance, given a dataframe with 4 columns\n",
    "and 10 rows, how to get the average value per column/row (For rows, 10\n",
    "average values i.e., per row; For columns, 4 average values i.e., per column)?"
   ]
  },
  {
   "cell_type": "code",
   "execution_count": 145,
   "id": "e086c437",
   "metadata": {},
   "outputs": [],
   "source": [
    "df_num = pd.DataFrame({'A': [1, 2, 3, 4, 5, 6, 7, 8, 9, 10], 'B': [10, 9, 8, 7, 6, 5, 4, 3, 2,3], 'C': [1, 4, 9, 16, 25, 36, 49, 64, 81, 100],\n",
    "                   'D': [100, 81, 64, 49, 36, 25, 16, 9, 4, 1]})"
   ]
  },
  {
   "cell_type": "code",
   "execution_count": 146,
   "id": "438fec64",
   "metadata": {},
   "outputs": [
    {
     "data": {
      "text/html": [
       "<div>\n",
       "<style scoped>\n",
       "    .dataframe tbody tr th:only-of-type {\n",
       "        vertical-align: middle;\n",
       "    }\n",
       "\n",
       "    .dataframe tbody tr th {\n",
       "        vertical-align: top;\n",
       "    }\n",
       "\n",
       "    .dataframe thead th {\n",
       "        text-align: right;\n",
       "    }\n",
       "</style>\n",
       "<table border=\"1\" class=\"dataframe\">\n",
       "  <thead>\n",
       "    <tr style=\"text-align: right;\">\n",
       "      <th></th>\n",
       "      <th>A</th>\n",
       "      <th>B</th>\n",
       "      <th>C</th>\n",
       "      <th>D</th>\n",
       "    </tr>\n",
       "  </thead>\n",
       "  <tbody>\n",
       "    <tr>\n",
       "      <th>0</th>\n",
       "      <td>1</td>\n",
       "      <td>10</td>\n",
       "      <td>1</td>\n",
       "      <td>100</td>\n",
       "    </tr>\n",
       "    <tr>\n",
       "      <th>1</th>\n",
       "      <td>2</td>\n",
       "      <td>9</td>\n",
       "      <td>4</td>\n",
       "      <td>81</td>\n",
       "    </tr>\n",
       "    <tr>\n",
       "      <th>2</th>\n",
       "      <td>3</td>\n",
       "      <td>8</td>\n",
       "      <td>9</td>\n",
       "      <td>64</td>\n",
       "    </tr>\n",
       "    <tr>\n",
       "      <th>3</th>\n",
       "      <td>4</td>\n",
       "      <td>7</td>\n",
       "      <td>16</td>\n",
       "      <td>49</td>\n",
       "    </tr>\n",
       "    <tr>\n",
       "      <th>4</th>\n",
       "      <td>5</td>\n",
       "      <td>6</td>\n",
       "      <td>25</td>\n",
       "      <td>36</td>\n",
       "    </tr>\n",
       "    <tr>\n",
       "      <th>5</th>\n",
       "      <td>6</td>\n",
       "      <td>5</td>\n",
       "      <td>36</td>\n",
       "      <td>25</td>\n",
       "    </tr>\n",
       "    <tr>\n",
       "      <th>6</th>\n",
       "      <td>7</td>\n",
       "      <td>4</td>\n",
       "      <td>49</td>\n",
       "      <td>16</td>\n",
       "    </tr>\n",
       "    <tr>\n",
       "      <th>7</th>\n",
       "      <td>8</td>\n",
       "      <td>3</td>\n",
       "      <td>64</td>\n",
       "      <td>9</td>\n",
       "    </tr>\n",
       "    <tr>\n",
       "      <th>8</th>\n",
       "      <td>9</td>\n",
       "      <td>2</td>\n",
       "      <td>81</td>\n",
       "      <td>4</td>\n",
       "    </tr>\n",
       "    <tr>\n",
       "      <th>9</th>\n",
       "      <td>10</td>\n",
       "      <td>3</td>\n",
       "      <td>100</td>\n",
       "      <td>1</td>\n",
       "    </tr>\n",
       "  </tbody>\n",
       "</table>\n",
       "</div>"
      ],
      "text/plain": [
       "    A   B    C    D\n",
       "0   1  10    1  100\n",
       "1   2   9    4   81\n",
       "2   3   8    9   64\n",
       "3   4   7   16   49\n",
       "4   5   6   25   36\n",
       "5   6   5   36   25\n",
       "6   7   4   49   16\n",
       "7   8   3   64    9\n",
       "8   9   2   81    4\n",
       "9  10   3  100    1"
      ]
     },
     "execution_count": 146,
     "metadata": {},
     "output_type": "execute_result"
    }
   ],
   "source": [
    "df_num"
   ]
  },
  {
   "cell_type": "code",
   "execution_count": 147,
   "id": "5658468f",
   "metadata": {},
   "outputs": [
    {
     "name": "stdout",
     "output_type": "stream",
     "text": [
      "Row-wise average values:\n",
      "0    28.0\n",
      "1    24.0\n",
      "2    21.0\n",
      "3    19.0\n",
      "4    18.0\n",
      "5    18.0\n",
      "6    19.0\n",
      "7    21.0\n",
      "8    24.0\n",
      "9    28.5\n",
      "dtype: float64\n"
     ]
    }
   ],
   "source": [
    "row_wise_average = df.mean(axis=1)\n",
    "print(\"Row-wise average values:\")\n",
    "print(row_wise_average)"
   ]
  },
  {
   "cell_type": "code",
   "execution_count": 148,
   "id": "b18107f6",
   "metadata": {},
   "outputs": [
    {
     "name": "stdout",
     "output_type": "stream",
     "text": [
      "\n",
      "Column-wise average values:\n",
      "A     5.5\n",
      "B     5.7\n",
      "C    38.5\n",
      "D    38.5\n",
      "dtype: float64\n"
     ]
    }
   ],
   "source": [
    "column_wise_average = df.mean(axis=0)\n",
    "print(\"\\nColumn-wise average values:\")\n",
    "print(column_wise_average)"
   ]
  },
  {
   "cell_type": "markdown",
   "id": "6feb422a",
   "metadata": {},
   "source": [
    "Given a dataframe with the following columns: FirstName, LastName, Gender;\n",
    "Create another column called, “FullName”, that contains concatenated derived\n",
    "values of the columns in the form of “&lt;Salutation&gt; &lt;FirstName&gt; &lt;LastName&gt;”,\n",
    "where “&lt;Salutation&gt;” is either “Mr.” or “Ms.” depending on the Gender column\n",
    "values (Values for Gender are only “Male” and “Female”). For instance, for a row\n",
    "with the values, {FirstName= ‘John’, LastName=’Smith’, Gender=’Male’}, the\n",
    "FullName will be “Mr. John Smith”."
   ]
  },
  {
   "cell_type": "code",
   "execution_count": 140,
   "id": "fe2351c5",
   "metadata": {},
   "outputs": [],
   "source": [
    "import pandas as pd\n",
    "import numpy as np\n",
    "import matplotlib.pyplot as plt\n",
    "import seaborn as sns\n",
    "%matplotlib inline"
   ]
  },
  {
   "cell_type": "code",
   "execution_count": 32,
   "id": "4d9081c5",
   "metadata": {},
   "outputs": [],
   "source": [
    "dfs=pd.DataFrame({'Name':['Prema','Sona','Soma'],'Last':['Maity','Sharma','kumar'],'Gender':['Female','Male','Female']})"
   ]
  },
  {
   "cell_type": "code",
   "execution_count": 33,
   "id": "acb3c634",
   "metadata": {
    "scrolled": true
   },
   "outputs": [
    {
     "data": {
      "text/html": [
       "<div>\n",
       "<style scoped>\n",
       "    .dataframe tbody tr th:only-of-type {\n",
       "        vertical-align: middle;\n",
       "    }\n",
       "\n",
       "    .dataframe tbody tr th {\n",
       "        vertical-align: top;\n",
       "    }\n",
       "\n",
       "    .dataframe thead th {\n",
       "        text-align: right;\n",
       "    }\n",
       "</style>\n",
       "<table border=\"1\" class=\"dataframe\">\n",
       "  <thead>\n",
       "    <tr style=\"text-align: right;\">\n",
       "      <th></th>\n",
       "      <th>Name</th>\n",
       "      <th>Last</th>\n",
       "      <th>Gender</th>\n",
       "    </tr>\n",
       "  </thead>\n",
       "  <tbody>\n",
       "    <tr>\n",
       "      <th>0</th>\n",
       "      <td>Prema</td>\n",
       "      <td>Maity</td>\n",
       "      <td>Female</td>\n",
       "    </tr>\n",
       "    <tr>\n",
       "      <th>1</th>\n",
       "      <td>Sona</td>\n",
       "      <td>Sharma</td>\n",
       "      <td>Male</td>\n",
       "    </tr>\n",
       "    <tr>\n",
       "      <th>2</th>\n",
       "      <td>Soma</td>\n",
       "      <td>kumar</td>\n",
       "      <td>Female</td>\n",
       "    </tr>\n",
       "  </tbody>\n",
       "</table>\n",
       "</div>"
      ],
      "text/plain": [
       "    Name    Last  Gender\n",
       "0  Prema   Maity  Female\n",
       "1   Sona  Sharma    Male\n",
       "2   Soma   kumar  Female"
      ]
     },
     "execution_count": 33,
     "metadata": {},
     "output_type": "execute_result"
    }
   ],
   "source": [
    "dfs"
   ]
  },
  {
   "cell_type": "code",
   "execution_count": 36,
   "id": "3f6976ad",
   "metadata": {},
   "outputs": [],
   "source": [
    "def new(gender):\n",
    "    if gender=='Female':\n",
    "        return \"miss\"\n",
    "    else:\n",
    "        return 'Mr'"
   ]
  },
  {
   "cell_type": "code",
   "execution_count": 41,
   "id": "3cb8fe69",
   "metadata": {},
   "outputs": [],
   "source": [
    "dfs['Full Name']=dfs.Gender.apply(new)+\" \"+dfs.Name+\" \"+dfs.Last"
   ]
  },
  {
   "cell_type": "code",
   "execution_count": 42,
   "id": "6bb4a7c9",
   "metadata": {
    "scrolled": true
   },
   "outputs": [
    {
     "data": {
      "text/html": [
       "<div>\n",
       "<style scoped>\n",
       "    .dataframe tbody tr th:only-of-type {\n",
       "        vertical-align: middle;\n",
       "    }\n",
       "\n",
       "    .dataframe tbody tr th {\n",
       "        vertical-align: top;\n",
       "    }\n",
       "\n",
       "    .dataframe thead th {\n",
       "        text-align: right;\n",
       "    }\n",
       "</style>\n",
       "<table border=\"1\" class=\"dataframe\">\n",
       "  <thead>\n",
       "    <tr style=\"text-align: right;\">\n",
       "      <th></th>\n",
       "      <th>Name</th>\n",
       "      <th>Last</th>\n",
       "      <th>Gender</th>\n",
       "      <th>Full Name</th>\n",
       "    </tr>\n",
       "  </thead>\n",
       "  <tbody>\n",
       "    <tr>\n",
       "      <th>0</th>\n",
       "      <td>Prema</td>\n",
       "      <td>Maity</td>\n",
       "      <td>Female</td>\n",
       "      <td>miss Prema Maity</td>\n",
       "    </tr>\n",
       "    <tr>\n",
       "      <th>1</th>\n",
       "      <td>Sona</td>\n",
       "      <td>Sharma</td>\n",
       "      <td>Male</td>\n",
       "      <td>Mr Sona Sharma</td>\n",
       "    </tr>\n",
       "    <tr>\n",
       "      <th>2</th>\n",
       "      <td>Soma</td>\n",
       "      <td>kumar</td>\n",
       "      <td>Female</td>\n",
       "      <td>miss Soma kumar</td>\n",
       "    </tr>\n",
       "  </tbody>\n",
       "</table>\n",
       "</div>"
      ],
      "text/plain": [
       "    Name    Last  Gender         Full Name\n",
       "0  Prema   Maity  Female  miss Prema Maity\n",
       "1   Sona  Sharma    Male    Mr Sona Sharma\n",
       "2   Soma   kumar  Female   miss Soma kumar"
      ]
     },
     "execution_count": 42,
     "metadata": {},
     "output_type": "execute_result"
    }
   ],
   "source": [
    "dfs"
   ]
  },
  {
   "cell_type": "markdown",
   "id": "db9dcbe8",
   "metadata": {},
   "source": [
    "Given a dataframe with 2 string-based columns with duplicate occurrences, find\n",
    "out the frequency of the occurrences of each value combination of the 2\n",
    "columns. For instance, if the dataframe were represented as {‘column1’: [‘a’, ‘a’,\n",
    "‘b’, ‘b’, ‘a’, ‘a’], ‘column2’: [‘c’, ‘c’, ‘c’, ‘d’, ‘d’, ‘d’, ‘e’]} then the result could be\n",
    "represented as [(‘a’, ‘c’) = 2, (‘a’, ‘d’) = 1, (‘a’, ‘e’) = 1, (‘b’, ‘c’) = 1, (‘b’, ‘d’) = 1]."
   ]
  },
  {
   "cell_type": "code",
   "execution_count": 43,
   "id": "0c2ce211",
   "metadata": {},
   "outputs": [],
   "source": [
    "df = pd.DataFrame({'column1': ['a', 'a', 'b', 'b', 'a', 'a'],'column2': ['c', 'c', 'c', 'd', 'd', 'd']})"
   ]
  },
  {
   "cell_type": "code",
   "execution_count": 44,
   "id": "f0889a19",
   "metadata": {},
   "outputs": [
    {
     "data": {
      "text/html": [
       "<div>\n",
       "<style scoped>\n",
       "    .dataframe tbody tr th:only-of-type {\n",
       "        vertical-align: middle;\n",
       "    }\n",
       "\n",
       "    .dataframe tbody tr th {\n",
       "        vertical-align: top;\n",
       "    }\n",
       "\n",
       "    .dataframe thead th {\n",
       "        text-align: right;\n",
       "    }\n",
       "</style>\n",
       "<table border=\"1\" class=\"dataframe\">\n",
       "  <thead>\n",
       "    <tr style=\"text-align: right;\">\n",
       "      <th></th>\n",
       "      <th>column1</th>\n",
       "      <th>column2</th>\n",
       "    </tr>\n",
       "  </thead>\n",
       "  <tbody>\n",
       "    <tr>\n",
       "      <th>0</th>\n",
       "      <td>a</td>\n",
       "      <td>c</td>\n",
       "    </tr>\n",
       "    <tr>\n",
       "      <th>1</th>\n",
       "      <td>a</td>\n",
       "      <td>c</td>\n",
       "    </tr>\n",
       "    <tr>\n",
       "      <th>2</th>\n",
       "      <td>b</td>\n",
       "      <td>c</td>\n",
       "    </tr>\n",
       "    <tr>\n",
       "      <th>3</th>\n",
       "      <td>b</td>\n",
       "      <td>d</td>\n",
       "    </tr>\n",
       "    <tr>\n",
       "      <th>4</th>\n",
       "      <td>a</td>\n",
       "      <td>d</td>\n",
       "    </tr>\n",
       "    <tr>\n",
       "      <th>5</th>\n",
       "      <td>a</td>\n",
       "      <td>d</td>\n",
       "    </tr>\n",
       "  </tbody>\n",
       "</table>\n",
       "</div>"
      ],
      "text/plain": [
       "  column1 column2\n",
       "0       a       c\n",
       "1       a       c\n",
       "2       b       c\n",
       "3       b       d\n",
       "4       a       d\n",
       "5       a       d"
      ]
     },
     "execution_count": 44,
     "metadata": {},
     "output_type": "execute_result"
    }
   ],
   "source": [
    "df"
   ]
  },
  {
   "cell_type": "code",
   "execution_count": 57,
   "id": "084ebef8",
   "metadata": {},
   "outputs": [],
   "source": [
    "result=df.groupby(['column1', 'column2']).size().reset_index(name='counts')"
   ]
  },
  {
   "cell_type": "code",
   "execution_count": 58,
   "id": "09e5e886",
   "metadata": {},
   "outputs": [
    {
     "data": {
      "text/html": [
       "<div>\n",
       "<style scoped>\n",
       "    .dataframe tbody tr th:only-of-type {\n",
       "        vertical-align: middle;\n",
       "    }\n",
       "\n",
       "    .dataframe tbody tr th {\n",
       "        vertical-align: top;\n",
       "    }\n",
       "\n",
       "    .dataframe thead th {\n",
       "        text-align: right;\n",
       "    }\n",
       "</style>\n",
       "<table border=\"1\" class=\"dataframe\">\n",
       "  <thead>\n",
       "    <tr style=\"text-align: right;\">\n",
       "      <th></th>\n",
       "      <th>column1</th>\n",
       "      <th>column2</th>\n",
       "      <th>counts</th>\n",
       "    </tr>\n",
       "  </thead>\n",
       "  <tbody>\n",
       "    <tr>\n",
       "      <th>0</th>\n",
       "      <td>a</td>\n",
       "      <td>c</td>\n",
       "      <td>2</td>\n",
       "    </tr>\n",
       "    <tr>\n",
       "      <th>1</th>\n",
       "      <td>a</td>\n",
       "      <td>d</td>\n",
       "      <td>2</td>\n",
       "    </tr>\n",
       "    <tr>\n",
       "      <th>2</th>\n",
       "      <td>b</td>\n",
       "      <td>c</td>\n",
       "      <td>1</td>\n",
       "    </tr>\n",
       "    <tr>\n",
       "      <th>3</th>\n",
       "      <td>b</td>\n",
       "      <td>d</td>\n",
       "      <td>1</td>\n",
       "    </tr>\n",
       "  </tbody>\n",
       "</table>\n",
       "</div>"
      ],
      "text/plain": [
       "  column1 column2  counts\n",
       "0       a       c       2\n",
       "1       a       d       2\n",
       "2       b       c       1\n",
       "3       b       d       1"
      ]
     },
     "execution_count": 58,
     "metadata": {},
     "output_type": "execute_result"
    }
   ],
   "source": [
    "result"
   ]
  },
  {
   "cell_type": "code",
   "execution_count": 59,
   "id": "40aad3a2",
   "metadata": {},
   "outputs": [],
   "source": [
    "# advance"
   ]
  },
  {
   "cell_type": "markdown",
   "id": "033551e7",
   "metadata": {},
   "source": [
    "Given a dataframe with the following columns: LocationID, XValue, YValue; Add\n",
    "another column, “NearestLocationID”, that contains the LocationID that is closest\n",
    "to the respective LocationIDs. For instance, given 3 rows [(1, 50, 100), (2, 20,\n",
    "100), (3, 50, 150)], the resultant column will be [2, 1, 1].\n",
    "\n",
    "This solution I took help"
   ]
  },
  {
   "cell_type": "code",
   "execution_count": 60,
   "id": "d78378a2",
   "metadata": {},
   "outputs": [],
   "source": [
    "df_location = pd.DataFrame({'LocationId':[1,20,100],'XValue':[2,20,100],'YValue':[3,50,150]})"
   ]
  },
  {
   "cell_type": "code",
   "execution_count": 61,
   "id": "4331548f",
   "metadata": {
    "scrolled": true
   },
   "outputs": [
    {
     "data": {
      "text/html": [
       "<div>\n",
       "<style scoped>\n",
       "    .dataframe tbody tr th:only-of-type {\n",
       "        vertical-align: middle;\n",
       "    }\n",
       "\n",
       "    .dataframe tbody tr th {\n",
       "        vertical-align: top;\n",
       "    }\n",
       "\n",
       "    .dataframe thead th {\n",
       "        text-align: right;\n",
       "    }\n",
       "</style>\n",
       "<table border=\"1\" class=\"dataframe\">\n",
       "  <thead>\n",
       "    <tr style=\"text-align: right;\">\n",
       "      <th></th>\n",
       "      <th>LocationId</th>\n",
       "      <th>XValue</th>\n",
       "      <th>YValue</th>\n",
       "    </tr>\n",
       "  </thead>\n",
       "  <tbody>\n",
       "    <tr>\n",
       "      <th>0</th>\n",
       "      <td>1</td>\n",
       "      <td>2</td>\n",
       "      <td>3</td>\n",
       "    </tr>\n",
       "    <tr>\n",
       "      <th>1</th>\n",
       "      <td>20</td>\n",
       "      <td>20</td>\n",
       "      <td>50</td>\n",
       "    </tr>\n",
       "    <tr>\n",
       "      <th>2</th>\n",
       "      <td>100</td>\n",
       "      <td>100</td>\n",
       "      <td>150</td>\n",
       "    </tr>\n",
       "  </tbody>\n",
       "</table>\n",
       "</div>"
      ],
      "text/plain": [
       "   LocationId  XValue  YValue\n",
       "0           1       2       3\n",
       "1          20      20      50\n",
       "2         100     100     150"
      ]
     },
     "execution_count": 61,
     "metadata": {},
     "output_type": "execute_result"
    }
   ],
   "source": [
    "df_location"
   ]
  },
  {
   "cell_type": "code",
   "execution_count": 63,
   "id": "53451f36",
   "metadata": {},
   "outputs": [],
   "source": [
    "def calc_distance(row, df_location):\n",
    "    x_diff = df_location['XValue'] - row['XValue'] \n",
    "    y_diff =  df_location['YValue'] - row['YValue'] \n",
    "    distance = np.sqrt(x_diff**2 + y_diff**2) \n",
    "    return distance "
   ]
  },
  {
   "cell_type": "code",
   "execution_count": 70,
   "id": "60cbed2c",
   "metadata": {
    "scrolled": true
   },
   "outputs": [
    {
     "data": {
      "text/html": [
       "<div>\n",
       "<style scoped>\n",
       "    .dataframe tbody tr th:only-of-type {\n",
       "        vertical-align: middle;\n",
       "    }\n",
       "\n",
       "    .dataframe tbody tr th {\n",
       "        vertical-align: top;\n",
       "    }\n",
       "\n",
       "    .dataframe thead th {\n",
       "        text-align: right;\n",
       "    }\n",
       "</style>\n",
       "<table border=\"1\" class=\"dataframe\">\n",
       "  <thead>\n",
       "    <tr style=\"text-align: right;\">\n",
       "      <th></th>\n",
       "      <th>LocationId</th>\n",
       "      <th>XValue</th>\n",
       "      <th>YValue</th>\n",
       "      <th>NearestLocationID</th>\n",
       "    </tr>\n",
       "  </thead>\n",
       "  <tbody>\n",
       "    <tr>\n",
       "      <th>0</th>\n",
       "      <td>1</td>\n",
       "      <td>2</td>\n",
       "      <td>3</td>\n",
       "      <td>1</td>\n",
       "    </tr>\n",
       "    <tr>\n",
       "      <th>1</th>\n",
       "      <td>20</td>\n",
       "      <td>20</td>\n",
       "      <td>50</td>\n",
       "      <td>20</td>\n",
       "    </tr>\n",
       "    <tr>\n",
       "      <th>2</th>\n",
       "      <td>100</td>\n",
       "      <td>100</td>\n",
       "      <td>150</td>\n",
       "      <td>100</td>\n",
       "    </tr>\n",
       "  </tbody>\n",
       "</table>\n",
       "</div>"
      ],
      "text/plain": [
       "   LocationId  XValue  YValue  NearestLocationID\n",
       "0           1       2       3                  1\n",
       "1          20      20      50                 20\n",
       "2         100     100     150                100"
      ]
     },
     "execution_count": 70,
     "metadata": {},
     "output_type": "execute_result"
    }
   ],
   "source": [
    "df_location"
   ]
  },
  {
   "cell_type": "code",
   "execution_count": 71,
   "id": "38a99481",
   "metadata": {},
   "outputs": [],
   "source": [
    "df = pd.DataFrame({'LocationID': [1, 2, 3],\n",
    "                   'XValue': [50, 20, 50],\n",
    "                   'YValue': [100, 100, 150]})\n",
    "\n",
    "# calculate the distance between each pair of locations\n",
    "def calc_distance(row, df):\n",
    "    x_diff = df['XValue'] - row['XValue']\n",
    "    y_diff = df['YValue'] - row['YValue']\n",
    "    distance = np.sqrt(x_diff**2 + y_diff**2)\n",
    "    return distance\n",
    "\n",
    "# create the NearestLocationID column\n",
    "df['NearestLocationID'] = df.apply(lambda row: df.loc[calc_distance(row, df).idxmin(), 'LocationID'], axis=1)"
   ]
  },
  {
   "cell_type": "code",
   "execution_count": 72,
   "id": "39e1a793",
   "metadata": {
    "scrolled": true
   },
   "outputs": [
    {
     "data": {
      "text/html": [
       "<div>\n",
       "<style scoped>\n",
       "    .dataframe tbody tr th:only-of-type {\n",
       "        vertical-align: middle;\n",
       "    }\n",
       "\n",
       "    .dataframe tbody tr th {\n",
       "        vertical-align: top;\n",
       "    }\n",
       "\n",
       "    .dataframe thead th {\n",
       "        text-align: right;\n",
       "    }\n",
       "</style>\n",
       "<table border=\"1\" class=\"dataframe\">\n",
       "  <thead>\n",
       "    <tr style=\"text-align: right;\">\n",
       "      <th></th>\n",
       "      <th>LocationID</th>\n",
       "      <th>XValue</th>\n",
       "      <th>YValue</th>\n",
       "      <th>NearestLocationID</th>\n",
       "    </tr>\n",
       "  </thead>\n",
       "  <tbody>\n",
       "    <tr>\n",
       "      <th>0</th>\n",
       "      <td>1</td>\n",
       "      <td>50</td>\n",
       "      <td>100</td>\n",
       "      <td>1</td>\n",
       "    </tr>\n",
       "    <tr>\n",
       "      <th>1</th>\n",
       "      <td>2</td>\n",
       "      <td>20</td>\n",
       "      <td>100</td>\n",
       "      <td>2</td>\n",
       "    </tr>\n",
       "    <tr>\n",
       "      <th>2</th>\n",
       "      <td>3</td>\n",
       "      <td>50</td>\n",
       "      <td>150</td>\n",
       "      <td>3</td>\n",
       "    </tr>\n",
       "  </tbody>\n",
       "</table>\n",
       "</div>"
      ],
      "text/plain": [
       "   LocationID  XValue  YValue  NearestLocationID\n",
       "0           1      50     100                  1\n",
       "1           2      20     100                  2\n",
       "2           3      50     150                  3"
      ]
     },
     "execution_count": 72,
     "metadata": {},
     "output_type": "execute_result"
    }
   ],
   "source": [
    "df"
   ]
  },
  {
   "cell_type": "markdown",
   "id": "4a593329",
   "metadata": {},
   "source": [
    "Given a dataframe with the following columns: Race100m, Race200m,\n",
    "Race500m, which are indicative of the race distance in meters; And the rows are\n",
    "indicative of records of each individual athlete, while the values are time taken\n",
    "(Seconds) by corresponding athletes to finish the respective races. Find out the\n",
    "average speed (In m/sec i.e., meters per second) of each athlete, considering\n",
    "that the athletes run at the same own pace in each race."
   ]
  },
  {
   "cell_type": "code",
   "execution_count": 73,
   "id": "cba12f07",
   "metadata": {},
   "outputs": [],
   "source": [
    "# example dataframe \n",
    "df = pd.DataFrame({'Race100m': [10.0, 9.5, 10.2], 'Race200m': [20.0, 19.0, 20.1], 'Race500m': [50.0, 48.0, 49.5]})\n",
    "# add columns for distance and speed for each race \n",
    "df['Speed100m'] = 100 / df['Race100m'] \n",
    "df['Speed200m'] = 200 / df['Race200m'] \n",
    "df['Speed500m'] = 500 / df['Race500m'] \n",
    "# calculate the average speed across all races\n",
    "df['AverageSpeed'] = df[['Speed100m', 'Speed200m', 'Speed500m']].mean(axis=1)"
   ]
  },
  {
   "cell_type": "code",
   "execution_count": 74,
   "id": "9e20f9e2",
   "metadata": {
    "scrolled": true
   },
   "outputs": [
    {
     "data": {
      "text/html": [
       "<div>\n",
       "<style scoped>\n",
       "    .dataframe tbody tr th:only-of-type {\n",
       "        vertical-align: middle;\n",
       "    }\n",
       "\n",
       "    .dataframe tbody tr th {\n",
       "        vertical-align: top;\n",
       "    }\n",
       "\n",
       "    .dataframe thead th {\n",
       "        text-align: right;\n",
       "    }\n",
       "</style>\n",
       "<table border=\"1\" class=\"dataframe\">\n",
       "  <thead>\n",
       "    <tr style=\"text-align: right;\">\n",
       "      <th></th>\n",
       "      <th>Race100m</th>\n",
       "      <th>Race200m</th>\n",
       "      <th>Race500m</th>\n",
       "      <th>Speed100m</th>\n",
       "      <th>Speed200m</th>\n",
       "      <th>Speed500m</th>\n",
       "      <th>AverageSpeed</th>\n",
       "    </tr>\n",
       "  </thead>\n",
       "  <tbody>\n",
       "    <tr>\n",
       "      <th>0</th>\n",
       "      <td>10.0</td>\n",
       "      <td>20.0</td>\n",
       "      <td>50.0</td>\n",
       "      <td>10.000000</td>\n",
       "      <td>10.000000</td>\n",
       "      <td>10.000000</td>\n",
       "      <td>10.000000</td>\n",
       "    </tr>\n",
       "    <tr>\n",
       "      <th>1</th>\n",
       "      <td>9.5</td>\n",
       "      <td>19.0</td>\n",
       "      <td>48.0</td>\n",
       "      <td>10.526316</td>\n",
       "      <td>10.526316</td>\n",
       "      <td>10.416667</td>\n",
       "      <td>10.489766</td>\n",
       "    </tr>\n",
       "    <tr>\n",
       "      <th>2</th>\n",
       "      <td>10.2</td>\n",
       "      <td>20.1</td>\n",
       "      <td>49.5</td>\n",
       "      <td>9.803922</td>\n",
       "      <td>9.950249</td>\n",
       "      <td>10.101010</td>\n",
       "      <td>9.951727</td>\n",
       "    </tr>\n",
       "  </tbody>\n",
       "</table>\n",
       "</div>"
      ],
      "text/plain": [
       "   Race100m  Race200m  Race500m  Speed100m  Speed200m  Speed500m  AverageSpeed\n",
       "0      10.0      20.0      50.0  10.000000  10.000000  10.000000     10.000000\n",
       "1       9.5      19.0      48.0  10.526316  10.526316  10.416667     10.489766\n",
       "2      10.2      20.1      49.5   9.803922   9.950249  10.101010      9.951727"
      ]
     },
     "execution_count": 74,
     "metadata": {},
     "output_type": "execute_result"
    }
   ],
   "source": [
    "df"
   ]
  },
  {
   "cell_type": "markdown",
   "id": "3acd4f83",
   "metadata": {},
   "source": [
    "Given an AlphaNumeric string, return the string with all the numbers removed."
   ]
  },
  {
   "cell_type": "code",
   "execution_count": 87,
   "id": "1c7a9a8e",
   "metadata": {},
   "outputs": [],
   "source": [
    "a='prema123'"
   ]
  },
  {
   "cell_type": "code",
   "execution_count": 92,
   "id": "3f7f6078",
   "metadata": {},
   "outputs": [],
   "source": [
    "a_new = \"\".join((x for x in a if not x.isdigit()))"
   ]
  },
  {
   "cell_type": "code",
   "execution_count": 93,
   "id": "bad67041",
   "metadata": {},
   "outputs": [
    {
     "data": {
      "text/plain": [
       "'prema'"
      ]
     },
     "execution_count": 93,
     "metadata": {},
     "output_type": "execute_result"
    }
   ],
   "source": [
    "a_new"
   ]
  },
  {
   "cell_type": "markdown",
   "id": "0ebf0a3e",
   "metadata": {},
   "source": [
    "Given a list of integers (both positive and negative), find the weighted average\n",
    "based on the following 2 conditions: The numbers have integer-ranged weights in\n",
    "the descending order (ordering includes zeroes), and the average value is\n",
    "calculated while ignoring the 0 values. For instance, given [8, 1, -9, 0, 4, 0, 0, -15]\n",
    "the average would be (8*8 + 7*4 + 6*1 + 2*-9 +1*-15)/5. To simplify, the sorted\n",
    "list would be [8, 4, 1, 0, 0, 0, -9, -15] with the corresponding weights as [8, 7, 6, 0,\n",
    "0, 0, 2, 1], and the valid denominator count is 5 (Total non-zero numbers)."
   ]
  },
  {
   "cell_type": "code",
   "execution_count": 137,
   "id": "5f17a8c1",
   "metadata": {},
   "outputs": [],
   "source": [
    "def weighted_average(lst):\n",
    "    sorted_lst = sorted(lst, reverse=True)\n",
    "    weighted_sum = 0\n",
    "    weight = len(lst)\n",
    "    count = 0\n",
    "    for i in sorted_lst:\n",
    "        if i == 0:\n",
    "            weight -= 1\n",
    "        else:\n",
    "            weighted_sum += weight * i\n",
    "            count =count+1\n",
    "    return weighted_sum / count if count > 0 else 0"
   ]
  },
  {
   "cell_type": "code",
   "execution_count": 138,
   "id": "15639ad2",
   "metadata": {},
   "outputs": [],
   "source": [
    "lst=[8, 7, 6, 0,0, 0, 2, 1]"
   ]
  },
  {
   "cell_type": "code",
   "execution_count": 139,
   "id": "189fe067",
   "metadata": {},
   "outputs": [
    {
     "data": {
      "text/plain": [
       "38.4"
      ]
     },
     "execution_count": 139,
     "metadata": {},
     "output_type": "execute_result"
    }
   ],
   "source": [
    "weighted_average(lst)"
   ]
  },
  {
   "cell_type": "markdown",
   "id": "3df1129b",
   "metadata": {},
   "source": [
    "Given an integer, find the ratio of the reversed integer (Position of digits are\n",
    "reversed, i.e., 123 becomes 321) to the sum of all the digits in the integer."
   ]
  },
  {
   "cell_type": "code",
   "execution_count": 143,
   "id": "982dab10",
   "metadata": {},
   "outputs": [],
   "source": [
    "def reverse_ratios(x):\n",
    "    reverse= int(str(x)[::-1])\n",
    "    suma=sum([int(i) for i in str(x)])\n",
    "    return reverse/suma"
   ]
  },
  {
   "cell_type": "code",
   "execution_count": 144,
   "id": "f7139dc1",
   "metadata": {},
   "outputs": [
    {
     "data": {
      "text/plain": [
       "53.5"
      ]
     },
     "execution_count": 144,
     "metadata": {},
     "output_type": "execute_result"
    }
   ],
   "source": [
    "reverse_ratios(123)"
   ]
  },
  {
   "cell_type": "markdown",
   "id": "2feb537e",
   "metadata": {},
   "source": [
    "4. Given 2 integers, find out the resulting integer that would be the exponent\n",
    "relating to the given2 numbers. By definition: a^n = b, where a, b are provided as\n",
    "input, while n needs to be computed. For instance, given 5 and 625, the result\n",
    "would be 4."
   ]
  },
  {
   "cell_type": "code",
   "execution_count": 145,
   "id": "310907cf",
   "metadata": {},
   "outputs": [],
   "source": [
    "import math\n",
    "\n",
    "def find_exponent(a, b):\n",
    "    return int(math.log(b) / math.log(a))"
   ]
  },
  {
   "cell_type": "code",
   "execution_count": 146,
   "id": "1db0d07e",
   "metadata": {},
   "outputs": [
    {
     "data": {
      "text/plain": [
       "4"
      ]
     },
     "execution_count": 146,
     "metadata": {},
     "output_type": "execute_result"
    }
   ],
   "source": [
    "find_exponent(5,625)"
   ]
  },
  {
   "cell_type": "markdown",
   "id": "02552b63",
   "metadata": {},
   "source": [
    "#6. Write star pattern\n",
    "\n",
    "*\n",
    "* *\n",
    "* * *\n",
    "* * * *\n",
    "* * * * *\n",
    "* * * * * *\n",
    "* * * * * * *\n",
    "* * * * * *\n",
    "* * * * *\n",
    "* * *\n",
    "* *"
   ]
  },
  {
   "cell_type": "code",
   "execution_count": 162,
   "id": "a436906a",
   "metadata": {},
   "outputs": [],
   "source": [
    "def triangle_pattern(n):\n",
    "    for i in range(1, n + 1):\n",
    "        for j in range(i):\n",
    "            print(\"* \", end=\"\")\n",
    "        print(\"\")\n",
    "    for i in range(n - 1, 0, -1):\n",
    "        for j in range(i):\n",
    "            print(\"* \", end=\"\")\n",
    "        print(\"\")"
   ]
  },
  {
   "cell_type": "code",
   "execution_count": 163,
   "id": "f5506f2a",
   "metadata": {
    "scrolled": false
   },
   "outputs": [
    {
     "name": "stdout",
     "output_type": "stream",
     "text": [
      "* \n",
      "* * \n",
      "* * * \n",
      "* * * * \n",
      "* * * * * \n",
      "* * * * * * \n",
      "* * * * * \n",
      "* * * * \n",
      "* * * \n",
      "* * \n",
      "* \n"
     ]
    }
   ],
   "source": [
    "triangle_pattern(6)"
   ]
  },
  {
   "cell_type": "markdown",
   "id": "bd5b8b28",
   "metadata": {},
   "source": [
    "7 7. S = &quot;asdfg12345!_()*&amp;#$%dsfjjhf&quot;\n",
    "a. Separate similar datatypes into different lists\n",
    "b. Remove numbers and return string\n",
    "c. Return no of vowels and numbers present."
   ]
  },
  {
   "cell_type": "code",
   "execution_count": 8,
   "id": "b96697c6",
   "metadata": {},
   "outputs": [],
   "source": [
    "def separate_lists(s):\n",
    "    letters = []\n",
    "    numbers = []\n",
    "    special_characters = []\n",
    "    vowels = \"aeiouAEIOU\"\n",
    "    for char in s:\n",
    "        if char.isalpha():\n",
    "            letters.append(char)\n",
    "        elif char.isdigit():\n",
    "            numbers.append(char)\n",
    "        else:\n",
    "            special_characters.append(char)\n",
    "    return letters, numbers, special_characters\n",
    "\n",
    "def remove_numbers(s):\n",
    "    return ''.join([char for char in s if not char.isdigit()])\n",
    "\n",
    "def count_vowels_and_numbers(s):\n",
    "    vowels = \"aeiouAEIOU\"\n",
    "    vowels_count = 0\n",
    "    numbers_count = 0\n",
    "    for char in s:\n",
    "        if char.isdigit():\n",
    "            numbers_count += 1\n",
    "        elif char in vowels:\n",
    "            vowels_count += 1\n",
    "    return vowels_count, numbers_count"
   ]
  },
  {
   "cell_type": "code",
   "execution_count": 7,
   "id": "8044a6fb",
   "metadata": {
    "scrolled": false
   },
   "outputs": [
    {
     "name": "stdout",
     "output_type": "stream",
     "text": [
      "Letters: ['q', 'u', 'o', 't', 'a', 's', 'd', 'f', 'g', 'a', 'm', 'p', 'd', 's', 'f', 'j', 'j', 'h', 'f', 'q', 'u', 'o', 't']\n",
      "Numbers: ['1', '2', '3', '4', '5']\n",
      "Special Characters: ['&', ';', '!', '_', '(', ')', '*', '&', ';', '#', '$', '%', '&']\n",
      "String without numbers: &quot;asdfg!_()*&amp;#$%dsfjjhf&quot\n",
      "Vowels count: 6\n",
      "Numbers count: 5\n"
     ]
    }
   ],
   "source": [
    "S=\"&quot;asdfg12345!_()*&amp;#$%dsfjjhf&quot\"\n",
    "letters, numbers, special_characters = separate_lists(S)\n",
    "print(\"Letters:\", letters)\n",
    "print(\"Numbers:\", numbers)\n",
    "print(\"Special Characters:\", special_characters)\n",
    "\n",
    "without_numbers = remove_numbers(S)\n",
    "print(\"String without numbers:\", without_numbers)\n",
    "\n",
    "vowels_count, numbers_count = count_vowels_and_numbers(S)\n",
    "print(\"Vowels count:\", vowels_count)\n",
    "print(\"Numbers count:\", numbers_count)"
   ]
  },
  {
   "cell_type": "markdown",
   "id": "bb7d2306",
   "metadata": {},
   "source": [
    "#Intermediate"
   ]
  },
  {
   "cell_type": "code",
   "execution_count": 135,
   "id": "7a21500f",
   "metadata": {},
   "outputs": [],
   "source": [
    "#1. already done above"
   ]
  },
  {
   "cell_type": "markdown",
   "id": "5531b462",
   "metadata": {},
   "source": [
    "2. a\n",
    "a. Given a list of strings, segregate the strings (all characters, no digits) into 2\n",
    "lists (Homogeneous and Heterogeneous). Definition of Homogeneous in this exercise is\n",
    "if the characters are either all upper-case or all lower-case. Anything else would be\n",
    "classified as Heterogeneous."
   ]
  },
  {
   "cell_type": "code",
   "execution_count": 46,
   "id": "e437bef6",
   "metadata": {},
   "outputs": [],
   "source": [
    "def homo_hetero(lis):\n",
    "    hetero=[]\n",
    "    homo=[]\n",
    "    for i in range(0,len(lis)):\n",
    "        if (lis[i]==lis[i].upper() or lis[i]==lis[i].lower()):\n",
    "            hetero.append(lis[i])\n",
    "        else:\n",
    "            homo.append(lis[i])\n",
    "            \n",
    "    print(\"HOMO :\",homo)\n",
    "    print(\"Hetetro :\",hetero)\n",
    "        "
   ]
  },
  {
   "cell_type": "code",
   "execution_count": 47,
   "id": "d14de5dc",
   "metadata": {
    "scrolled": true
   },
   "outputs": [
    {
     "name": "stdout",
     "output_type": "stream",
     "text": [
      "HOMO : ['AbhishekRoy']\n",
      "Hetetro : ['prema', 'SOMA']\n"
     ]
    }
   ],
   "source": [
    "homo_hetero(lis)"
   ]
  },
  {
   "cell_type": "code",
   "execution_count": 132,
   "id": "527a8db4",
   "metadata": {},
   "outputs": [],
   "source": [
    "# 2. b already done above"
   ]
  },
  {
   "cell_type": "markdown",
   "id": "50d8c9a1",
   "metadata": {},
   "source": [
    "3. #Given a string in the following format: “CharIntCharInt....” i.e. a character (a-z, A-\n",
    "Z) followed by an integer (Between 1 and 2147483647), and the string could be\n",
    "as big as needed. Decompose the string to avail a list comprising the characters\n",
    "amounting according to the characters’ succeeding integers. For instance, given\n",
    "an input string, “x11y3”, the expected output is [x, x, x, x, x, x, x, x, x, x, x, y, y, y]."
   ]
  },
  {
   "cell_type": "code",
   "execution_count": 99,
   "id": "7c34e3ba",
   "metadata": {},
   "outputs": [],
   "source": [
    "def char_digit_split(input_string):\n",
    "    result = []\n",
    "    i = 0\n",
    "    while i < len(input_string):\n",
    "        char = input_string[i]\n",
    "        i += 1\n",
    "        count = \"\"\n",
    "        while i < len(input_string) and input_string[i].isdigit():\n",
    "            count += input_string[i]\n",
    "            i += 1\n",
    "        result.extend([char] * int(count))\n",
    "    return result"
   ]
  },
  {
   "cell_type": "code",
   "execution_count": 100,
   "id": "d423ccfd",
   "metadata": {},
   "outputs": [
    {
     "data": {
      "text/plain": [
       "['x', 'x', 'x', 'x', 'x', 'x', 'x', 'x', 'x', 'x', 'x', 'y', 'y', 'y']"
      ]
     },
     "execution_count": 100,
     "metadata": {},
     "output_type": "execute_result"
    }
   ],
   "source": [
    "char_digit_split('x11y3')"
   ]
  },
  {
   "cell_type": "markdown",
   "id": "6b79fb4e",
   "metadata": {},
   "source": [
    "##Given a string containing a simple arithmetic expression (Arithmetic expressions\n",
    "considered include only addition [“+”], subtraction [“-”], multiplication [“*”] and\n",
    "division [“/”]), decompose the string to find the result of the expression. For\n",
    "instance, given a sample string, “4+5”, the expected result is 9 (Datatype is up to\n",
    "the candidate)."
   ]
  },
  {
   "cell_type": "code",
   "execution_count": 131,
   "id": "8e55c9df",
   "metadata": {},
   "outputs": [],
   "source": [
    "# solution required"
   ]
  },
  {
   "cell_type": "code",
   "execution_count": null,
   "id": "c8b4fbfa",
   "metadata": {},
   "outputs": [],
   "source": []
  }
 ],
 "metadata": {
  "kernelspec": {
   "display_name": "Python 3 (ipykernel)",
   "language": "python",
   "name": "python3"
  },
  "language_info": {
   "codemirror_mode": {
    "name": "ipython",
    "version": 3
   },
   "file_extension": ".py",
   "mimetype": "text/x-python",
   "name": "python",
   "nbconvert_exporter": "python",
   "pygments_lexer": "ipython3",
   "version": "3.9.12"
  }
 },
 "nbformat": 4,
 "nbformat_minor": 5
}
